{
  "nbformat": 4,
  "nbformat_minor": 0,
  "metadata": {
    "colab": {
      "name": "11-07-2021-docking.ipynb",
      "provenance": [],
      "collapsed_sections": [],
      "toc_visible": true
    },
    "kernelspec": {
      "name": "python3",
      "display_name": "Python 3"
    },
    "language_info": {
      "name": "python"
    },
    "accelerator": "GPU"
  },
  "cells": [
    {
      "cell_type": "markdown",
      "metadata": {
        "id": "-fjSWgfXAwQf"
      },
      "source": [
        "# Tutorial de acoplamiento molecular (básico)"
      ]
    },
    {
      "cell_type": "markdown",
      "metadata": {
        "id": "APV5wm1hLAjh"
      },
      "source": [
        "## Introducción al acoplamiento\n",
        "El acoplamiento molecular es un método computacional para la predicción de la unión entre dos moléculas.\n",
        "\n",
        "Esta moléculas son conocidas como <font color='red'>Receptor</font> y <font color='blue'>Ligando</font>.\n",
        "\n",
        "Generalmente el <font color='red'>Receptor</font> es una proteína y el <font color='blue'>Ligando</font> una **molecula pequeña**, o sea una estructura con un peso molecular menor a 700 Da.\n",
        "\n",
        "Aquí es necesario detenernos un poco y hacer algunas aclaraciones.\n",
        "- El **receptor** tambien puede ser DNA o RNA, pero los programas para hacer este tipo de acoplamiento no se van a considerar en este tutorial.\n",
        "- El **ligando** tambien puede una proteína, pero el acoplamiento proteína-proteína no se va a  considerar en este tutorial.\n",
        "- El **ligando** puede tener un peso molecular mayor a 700 Da. En realidad, muchas de las consideraciones en este tutorial son solo sugerencias. Si sabes lo que estas haciendo, adelante, si no, **¡hazlo con cuidado!**.\n",
        "\n",
        "El uso del acoplamiento molecular proteína-molécula pequeña tiene diversas aplicaciones, pero antes de entrar a detalle, veamos cuales son los objetivos de este tipo de acoplamiento.\n",
        "\n",
        "1. Predecir la conformación energéticamente más favorable del ligando durante la unión a la superficie del receptor.\n",
        "2. Estimar la afinidad de la unión receptor-ligando\n",
        "3. Clasificar entre ligandos activos e inactivos\n",
        "\n",
        "Dentro de las aplicaciones donde se considera util, el acoplamiento molecular, estan:\n",
        "- El cribado virtual\n",
        "- El modelado de farmacóforos\n",
        "- Estudios QSAR\n",
        "- Estudios pre-Dinámica molecular\n",
        "- Otro que no recuerdo en este momento\n",
        "\n",
        "Que no sabes que son estas aplicaciones, no te preocupes. En futuros tutoriales, abordaremos estos temas a detalle."
      ]
    },
    {
      "cell_type": "markdown",
      "metadata": {
        "id": "we67sMvoLFA0"
      },
      "source": [
        "## Descripción del tutorial\n",
        "En este tutorial se realizará un ejemplo de acoplamiento muy sencillo. El caso más simple que se me puede ocurrir, es replicar la unión de un complejo receptor-ligando conocido. \n",
        "\n",
        "El complejo que utilizaremos la proteína PTP1B unida al ligando BB3. Disponible en https://www.rcsb.org/structure/1T48.\n",
        "\n",
        "Antes de comenzar a trabajar debemos saber que vamos a hacer. Siempre es bueno tener un diagrama de nuestros planes. **¡Evita la improvisación!**.\n",
        "\n",
        "En el siguiente imagen se muestran los pasos generales que se realizan antes, durante y despues del acoplamiento molecular.\n",
        "\n",
        "1. Configuración del entorno de trabajo\n",
        "2. Preparación de estructuras\n",
        "<ol TYPE=\"a\">\n",
        "  <li>Preparación del receptor</li>\n",
        "  <li>Selección del sitio de unión</li>\n",
        "  <li>Preparación del ligando</li>\n",
        "</ol>\n",
        "3. Acoplamiento molecular\n",
        "4. Análisis visual de conformaciones\n",
        "\n",
        "![Docking diagram]("https://raw.githubusercontent.com/aljusa/lowhaningmolecules/master/images/docking_diagram.svg)/>"
      ]
    },
    {
      "cell_type": "markdown",
      "metadata": {
        "id": "sYi_-vf6aMZI"
      },
      "source": [
        "## Tutorial\n"
      ]
    },
    {
      "cell_type": "markdown",
      "metadata": {
        "id": "ll5zFzJ7aMdn"
      },
      "source": [
        "### 1. Configuración del entorno de trabajo\n",
        "Antes de comenzar este tutorial, ponte comodo, \n",
        "En esta sección vamos a instalar los paquetes que vamos a utilizar en todas las demás secciones.\n",
        "- Miniconda (https://docs.conda.io/en/latest/miniconda.html)\n",
        "  - Sistema de gestión de paquetes que nos facilita la instalación de todo lo demas.\n",
        "- Open Babel (http://openbabel.org/wiki/Main_Page)\n",
        "  - Caja de herramientas para el manejo de datos químicos\n",
        "- Pybel (https://openbabel.org/docs/dev/UseTheLibrary/Python_Pybel.html)\n",
        "  - API de Open Babel para Python\n",
        "- PDB2PQR (https://pdb2pqr.readthedocs.io/en/latest/index.html)\n",
        "  - Este programa automatiza muchas de las tareas comunes de preparar estructuras.\n",
        "- gnina (https://github.com/gnina/gnina)\n",
        "  - Programa para realizar el acoplamiento molecular\n",
        "- py3Dmol (https://pypi.org/project/py3Dmol/)\n",
        "  - API de 3Dmol.js (https://3dmol.csb.pitt.edu/) para Python"
      ]
    },
    {
      "cell_type": "code",
      "metadata": {
        "id": "2vBtOui7YrMt"
      },
      "source": [
        "### --------------------Instalacion de programas---------------------------- ###\n",
        "#Miniconda\n",
        "!wget -c https://repo.continuum.io/miniconda/Miniconda3-latest-Linux-x86_64.sh\n",
        "!chmod +x Miniconda3-latest-Linux-x86_64.sh\n",
        "!bash ./Miniconda3-latest-Linux-x86_64.sh -b -f -p /usr/local\n",
        "!conda install -y -q python=3.7\n",
        "import sys\n",
        "sys.path.append('/usr/local/lib/python3.7/site-packages/')\n",
        "\n",
        "#openbabel\n",
        "!apt install openbabel\n",
        "!conda install -q -y -c conda-forge openbabel\n",
        "from openbabel import pybel\n",
        "\n",
        "#pdb2pqr\n",
        "!apt install pdb2pqr\n",
        "\n",
        "#gnina\n",
        "!wget https://github.com/gnina/gnina/releases/download/v1.0.1/gnina\n",
        "!chmod +x gnina\n",
        "\n",
        "#py3dmol\n",
        "!conda install -y -q -c conda-forge py3dmol\n",
        "import py3Dmol"
      ],
      "execution_count": null,
      "outputs": []
    },
    {
      "cell_type": "markdown",
      "metadata": {
        "id": "0Ajn7aY2pedr"
      },
      "source": [
        "### Preparación de estructuras\n",
        "Antes del acoplamiento vamos a visualizar nuestro primer complejo PDB (PDB es el formato del archivo que describe la estructura de las proteinas, asi como mp3 es para audio y jpeg para fotografías, pdb es para proteínas).\n",
        "\n",
        "Los pasos para la visualización son:\n",
        "1. Descargar la estructura PDB\n",
        "2. Visualizarla con py3Dmol"
      ]
    },
    {
      "cell_type": "code",
      "metadata": {
        "id": "7MxccyiPzqAp"
      },
      "source": [
        "#----Visualizacion de complejo----#\n",
        "#Descargar complejo\n",
        "!wget https://files.rcsb.org/view/1T48.pdb\n",
        "\n",
        "#Visualizar complejo\n",
        "v = py3Dmol.view()\n",
        "v.addModel(open('1T48.pdb').read())\n",
        "v.setStyle({'cartoon':{},'stick':{'radius':.1}})\n",
        "v.zoomTo({'model':0})\n",
        "v.show()"
      ],
      "execution_count": null,
      "outputs": []
    },
    {
      "cell_type": "markdown",
      "metadata": {
        "id": "CETosoou6lNX"
      },
      "source": [
        "En esta primer visualización veremos la estructura PDB como una sola entidad. Sin embargo al visitar el sitio web de https://www.rcsb.org/structure/1I91 nos daremos cuenta que esta estructura contiene una macromolécula y tres moléculas pequeñas. Por lo que a continuación vamos a extraer las moléculas que nos interesan. La proteína y el ligando INQ."
      ]
    },
    {
      "cell_type": "code",
      "metadata": {
        "id": "Sek2jH4F7dO0"
      },
      "source": [
        "# Extraer átomos de la proteina\n",
        "!grep ATOM 1T48.pdb > receptor.pdb\n",
        "\n",
        "# Extraer átomos del ligando\n",
        "!grep BB3 1T48.pdb > ligando.pdb\n",
        "\n",
        "#Visualizar \n",
        "v = py3Dmol.view()\n",
        "v.addModel(open('receptor.pdb').read())\n",
        "v.setStyle({'cartoon':{},'stick':{'radius':.1}})\n",
        "v.addModel(open('ligando.pdb').read())\n",
        "v.setStyle({'model':1},{'stick':{'colorscheme':'greenCarbon'}})\n",
        "v.zoomTo({'model':1})\n",
        "v.show()"
      ],
      "execution_count": null,
      "outputs": []
    },
    {
      "cell_type": "markdown",
      "metadata": {
        "id": "ERO0mL3W9Gus"
      },
      "source": [
        "Este ultimo modelo tridimensional seria el resultado que nosostros vamos a intentar replicar mediante el acoplamiento molecular."
      ]
    },
    {
      "cell_type": "markdown",
      "metadata": {
        "id": "vJXFGOmZpkiJ"
      },
      "source": [
        "#### Preparación del receptor\n",
        "En la sección anterior dividimos el archivo PDB para separar el receptor y el ligando. \n",
        "\n",
        "Si analizamos la estructura del receptor  obtenida de PDB veremos que está incompleta. **¡No contiene átomos de hidrogeno!**. \n",
        "\n",
        "Veamos la comparación.\n"
      ]
    },
    {
      "cell_type": "code",
      "metadata": {
        "id": "nbGQC4FAvQz4"
      },
      "source": [
        "!obabel receptor.pdb -O receptor.mol2\n",
        "#Visualizar \n",
        "v = py3Dmol.view()\n",
        "v.addModel(open('receptor.mol2').read())\n",
        "v.setStyle({'cartoon':{},'stick':{'radius':.1}})\n",
        "v.zoomTo({'model':0})\n",
        "v.show()"
      ],
      "execution_count": null,
      "outputs": []
    },
    {
      "cell_type": "markdown",
      "metadata": {
        "id": "8kvN5HLQvOma"
      },
      "source": [
        "\n",
        "Además de la falta de hidrógenos otras estructuras PDB pueden estar incompletas por la falta de residuos, o tienen un mismo residuo en dos posiciones a la vez. Por lo que, antes de realizar el acoplamiento necesario resolver todos estos problemas. \n",
        "\n",
        "Para agregar hidrógenos de manera adecuada debemos conocer el estado de protonación de la estructura. \n",
        "\n",
        "Por otro lado, para el acoplamiento también en necesario conocer las cargas de cada átomo.\n",
        "\n",
        "Esto podría parecer algo complicado de hacer, pero lo haremos con uso comando, utilizando el programa pdb2pqr."
      ]
    },
    {
      "cell_type": "code",
      "metadata": {
        "id": "IOB5BRE1BLQi"
      },
      "source": [
        "!pdb2pqr --ff=amber --with-ph=7.4 receptor.pdb receptor_prep.pqr\n",
        "!obabel receptor_prep.pqr -O receptor_prep.pdb"
      ],
      "execution_count": null,
      "outputs": []
    },
    {
      "cell_type": "markdown",
      "metadata": {
        "id": "T6EsH0xTwZep"
      },
      "source": [
        "Si visualizamos la nueva estructura veremos que los hidrogenos han sido agregados."
      ]
    },
    {
      "cell_type": "code",
      "metadata": {
        "id": "NGorI-2NwBq-"
      },
      "source": [
        "# Para visualizar los atomos de H es necesario generar un archivo mol2\n",
        "!obabel receptor_prep.pdb -O receptor_H.mol2\n",
        "\n",
        "#Visualizar \n",
        "v = py3Dmol.view()\n",
        "v.addModel(open('receptor_H.mol2').read())\n",
        "v.setStyle({'cartoon':{},'stick':{'radius':.1}})\n",
        "v.zoomTo({'model':0})\n",
        "v.show()"
      ],
      "execution_count": null,
      "outputs": []
    },
    {
      "cell_type": "markdown",
      "metadata": {
        "id": "_nPReOhDposn"
      },
      "source": [
        "#### Preparación del ligando\n",
        "Al igual que el receptor, podemos extraer la estructura del ligando del archivo del complejo PDB. No obstante, hacerlo de esta manera genera un sesgo relacionado con la preparación del ligando.\n",
        "\n",
        "Lo ideal para validar nuestro protocolo de acoplamiento es utilizar ligandos no cristalizados. Debemos obtener la estructura del ligando de otra fuente.\n",
        "\n",
        "Existen distintas bases de datos donde podemos buscar el ligando o incluso podemos dibujarlo en algún programa.\n",
        "\n",
        "La estrategia que vamos a utilizar en este tutorial será construir la estructura desde su código SMILES.\n",
        "\n",
        "El código SMILES es una cadena de caracteres cuyo ordenamiento define de que manera estan enlazados los atomos en una estructura.\n",
        "\n",
        "Durante la construcción de la estructura del ligando vamos a generar una estructura tridimensional minimizada, agregar hidrogenos, definir el orden de enlace y asignar cargas."
      ]
    },
    {
      "cell_type": "code",
      "metadata": {
        "id": "Wd5rqcyOP9jM"
      },
      "source": [
        "!obabel -:\"CCc1c(c2ccc(cc2o1)S(=O)(=O)N(C)C)C(=O)c3cc(c(c(c3)Br)O)Br\" -O ligando_prep.mol2 --gen3d --minimize --ff GAFF"
      ],
      "execution_count": null,
      "outputs": []
    },
    {
      "cell_type": "markdown",
      "metadata": {
        "id": "hoN2WqyNpoeA"
      },
      "source": [
        "#### Selección del sitio de unión\n",
        "Para este tutorial utilizaremos la opción --autobox_ligand de gnina para seleccionar como sitio de unión las coordenadas del ligando en el PDB."
      ]
    },
    {
      "cell_type": "markdown",
      "metadata": {
        "id": "PdFmgAnxqYr8"
      },
      "source": [
        "### Acoplamiento Molecular con gnina\n",
        "Exiten muchos programas para realizar acoplamiento, cada uno con sus ventajas y desventajas, pero no estraremos a detalle en ese tema. Simplementa bastará decir que uno de los programas más populares de la ultima decada es Autodock vina, fácil de utilizar, rapido y con buen nivel de predicción. En actualidad existen varias versiones de vina desarrolladas por distintos grupos de investigación, la versión que utilizaremos en este tutorial se llama gnina. Usaremos esta versión ya que es más facil de utilizar que vina y en general tiene una mayor precisión (cita).\n",
        "\n",
        "\n",
        "Una vez que hemos preparado las estructuras el acoplamiento con gnina es sumamente sencillo basta con indicar las siguients opciones\n",
        "- -r receptor_preparado\n",
        "- -l ligando_preparado\n",
        "- --autobox_ligand ligando_original\n",
        "- -o archivo_salida\n",
        "- --cnn_scoring (indicar _none_ cuando no se este utilizando GPU)\n",
        "\n",
        "\n"
      ]
    },
    {
      "cell_type": "code",
      "metadata": {
        "id": "DaPXxJM5ApNW"
      },
      "source": [
        "!./gnina -r receptor_prep.pdb -l ligando_prep.mol2 --autobox_ligand ligando.pdb -o ligando_out.sdf --cnn_scoring none"
      ],
      "execution_count": null,
      "outputs": []
    },
    {
      "cell_type": "markdown",
      "metadata": {
        "id": "zgL1dhuls6PF"
      },
      "source": [
        "### Análisis de resultados\n",
        "Despues de realizar el acoplamiento gnina muestra 9 conformaciones diferentes. A cada conformación se le asigna un puntaje de acoplamiento (affinity). Este puntaje es una estimación de la energía libre de unión, por lo que entre más negativo sea, es mejor.\n",
        "\n",
        "Además de la energía libre de unión podemos comparar las conformaciones mediante el calculo de RMSD.\n"
      ]
    },
    {
      "cell_type": "code",
      "metadata": {
        "id": "sS291Cr4u5XG"
      },
      "source": [
        "!obrms --firstonly ligando.pdb ligando_out.sdf"
      ],
      "execution_count": null,
      "outputs": []
    },
    {
      "cell_type": "markdown",
      "metadata": {
        "id": "e3Pou2E4vHCV"
      },
      "source": [
        "El valor de RMSD indica que tan parecida es una conformación con otra, en este caso comparamos las 9 conformaciones del acoplamiento con la conformación del crista. Entre más cercano es el valor de RMSD, más parecidas son las conformaciones.\n",
        "El ultimo analisis que realizaremos sera la inspección visual de las conformaciones"
      ]
    },
    {
      "cell_type": "code",
      "metadata": {
        "id": "d1UKpUk3NKMY"
      },
      "source": [
        "#Visualizar\n",
        "from ipywidgets import interact,fixed,IntSlider\n",
        "import ipywidgets\n",
        "\n",
        "def MolTo3DView(mol):\n",
        "  v = py3Dmol.view()\n",
        "  v.addModel(open('receptor.pdb').read())\n",
        "  v.setStyle({'cartoon':{},'stick':{'radius':.1}})\n",
        "  v.addModel(open('ligando.pdb').read())\n",
        "  v.setStyle({'model':1},{'stick':{'colorscheme':'darkCarbon'}})\n",
        "  v.addModel(open('ligando_out.sdf').read())\n",
        "  v.setStyle({'model':2},{'stick':{'colorscheme':'greenCarbon'}})\n",
        "  v.zoomTo({'model':1})\n",
        "  return v\n",
        "\n",
        "def conf_viewer(idx):\n",
        "    mol = confs[idx]\n",
        "    return MolTo3DView(mol).show()\n",
        "\n",
        "confs = [s for s in pybel.readfile('sdf', 'ligando_out.sdf')]\n",
        "interact(conf_viewer, idx=IntSlider(min=0,max=9-1, step=1))\n"
      ],
      "execution_count": null,
      "outputs": []
    }
  ]
}
